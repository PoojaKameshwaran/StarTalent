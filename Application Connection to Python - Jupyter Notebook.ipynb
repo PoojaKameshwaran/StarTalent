{
 "cells": [
  {
   "cell_type": "code",
   "execution_count": null,
   "id": "b18a5838",
   "metadata": {},
   "outputs": [],
   "source": [
    "conda install -c anaconda mysql-connector-python"
   ]
  },
  {
   "cell_type": "code",
   "execution_count": 17,
   "id": "c2db87ef",
   "metadata": {},
   "outputs": [],
   "source": [
    "import mysql.connector\n",
    "import pandas as pd"
   ]
  },
  {
   "cell_type": "code",
   "execution_count": 3,
   "id": "060a7c44",
   "metadata": {},
   "outputs": [],
   "source": [
    "startalent_db = mysql.connector.connect(host = 'localhost', user = 'root', password = 'pooja1234', database = 'startalent')"
   ]
  },
  {
   "cell_type": "code",
   "execution_count": 33,
   "id": "eb7ea903",
   "metadata": {},
   "outputs": [],
   "source": [
    "curr_cursor = startalent_db.cursor()"
   ]
  },
  {
   "cell_type": "code",
   "execution_count": 41,
   "id": "19c38b26",
   "metadata": {},
   "outputs": [
    {
     "name": "stdout",
     "output_type": "stream",
     "text": [
      "(2, 'Bob Smith', 35, 'Male', 'bob.smith@email.com', '555-5678', 8, 'Epic Productions', 2, 2)\n",
      "(42, 'Preston Murphy', 31, 'Male', 'preston.murphy@email.com', '555-6789', 12, 'Elysium Films', 8, 2)\n",
      "(4, 'David Wilson', 42, 'Male', 'david.wilson@email.com', '555-3456', 10, 'Majestic Studios', 4, 4)\n",
      "(43, 'Quinn Hayes', 37, 'Female', 'quinn.hayes@email.com', '555-1234', 19, 'Radiance Productions', 1, 4)\n"
     ]
    }
   ],
   "source": [
    "# Query to select all clients who are assisted by agents with agent ID \"2\" and \"4\"\n",
    "\n",
    "curr_cursor.execute('SELECT * FROM Client WHERE AgentID IN (2, 4);')\n",
    "for record in curr_cursor:\n",
    "    print(record)"
   ]
  },
  {
   "cell_type": "code",
   "execution_count": 42,
   "id": "7a26b807",
   "metadata": {},
   "outputs": [
    {
     "name": "stdout",
     "output_type": "stream",
     "text": [
      "(4, 'David Wilson')\n",
      "(8, 'Henry Anderson')\n",
      "(17, 'Quinn Powell')\n",
      "(21, 'Ursula Ross')\n",
      "(26, 'Zane Powell')\n",
      "(31, 'Eva Turner')\n",
      "(36, 'James Powell')\n",
      "(40, 'Noah Fisher')\n",
      "(45, 'Sophie Powell')\n",
      "(50, 'Xavier Turner')\n",
      "(4, 'David Wilson')\n",
      "(8, 'Henry Anderson')\n",
      "(17, 'Quinn Powell')\n",
      "(21, 'Ursula Ross')\n",
      "(26, 'Zane Powell')\n",
      "(31, 'Eva Turner')\n",
      "(36, 'James Powell')\n",
      "(40, 'Noah Fisher')\n",
      "(45, 'Sophie Powell')\n",
      "(50, 'Xavier Turner')\n",
      "(1, 'Alice Johnson')\n",
      "(6, 'Frank Turner')\n",
      "(11, 'Karen Green')\n",
      "(15, 'Olivia Ward')\n",
      "(19, 'Samantha Brooks')\n",
      "(24, 'Xander Hayes')\n",
      "(29, 'Catherine Brown')\n",
      "(33, 'Giselle Fisher')\n",
      "(38, 'Liam Murphy')\n",
      "(43, 'Quinn Hayes')\n",
      "(47, 'Uma Turner')\n",
      "(1, 'Alice Johnson')\n",
      "(6, 'Frank Turner')\n",
      "(11, 'Karen Green')\n",
      "(15, 'Olivia Ward')\n",
      "(19, 'Samantha Brooks')\n",
      "(24, 'Xander Hayes')\n",
      "(29, 'Catherine Brown')\n",
      "(33, 'Giselle Fisher')\n",
      "(38, 'Liam Murphy')\n",
      "(43, 'Quinn Hayes')\n",
      "(47, 'Uma Turner')\n",
      "(1, 'Alice Johnson')\n",
      "(6, 'Frank Turner')\n",
      "(11, 'Karen Green')\n",
      "(15, 'Olivia Ward')\n",
      "(19, 'Samantha Brooks')\n",
      "(24, 'Xander Hayes')\n",
      "(29, 'Catherine Brown')\n",
      "(33, 'Giselle Fisher')\n",
      "(38, 'Liam Murphy')\n",
      "(43, 'Quinn Hayes')\n",
      "(47, 'Uma Turner')\n",
      "(1, 'Alice Johnson')\n",
      "(6, 'Frank Turner')\n",
      "(11, 'Karen Green')\n",
      "(15, 'Olivia Ward')\n",
      "(19, 'Samantha Brooks')\n",
      "(24, 'Xander Hayes')\n",
      "(29, 'Catherine Brown')\n",
      "(33, 'Giselle Fisher')\n",
      "(38, 'Liam Murphy')\n",
      "(43, 'Quinn Hayes')\n",
      "(47, 'Uma Turner')\n",
      "(9, 'Ivy Brown')\n",
      "(13, 'Mia Turner')\n",
      "(22, 'Victor Turner')\n",
      "(28, 'Benjamin Hayes')\n",
      "(34, 'Harrison Turner')\n",
      "(42, 'Preston Murphy')\n",
      "(48, 'Vincent Murphy')\n",
      "(9, 'Ivy Brown')\n",
      "(13, 'Mia Turner')\n",
      "(22, 'Victor Turner')\n",
      "(28, 'Benjamin Hayes')\n",
      "(34, 'Harrison Turner')\n",
      "(42, 'Preston Murphy')\n",
      "(48, 'Vincent Murphy')\n",
      "(2, 'Bob Smith')\n",
      "(7, 'Grace Taylor')\n",
      "(12, 'Leo Reed')\n",
      "(16, 'Peter Hayes')\n",
      "(20, 'Tom Murphy')\n",
      "(25, 'Yara Fisher')\n",
      "(30, 'Dylan Murphy')\n",
      "(35, 'Isabel Hayes')\n",
      "(39, 'Megan Hayes')\n",
      "(44, 'Ryan Turner')\n",
      "(49, 'Willa Fisher')\n",
      "(2, 'Bob Smith')\n",
      "(7, 'Grace Taylor')\n",
      "(12, 'Leo Reed')\n",
      "(16, 'Peter Hayes')\n",
      "(20, 'Tom Murphy')\n",
      "(25, 'Yara Fisher')\n",
      "(30, 'Dylan Murphy')\n",
      "(35, 'Isabel Hayes')\n",
      "(39, 'Megan Hayes')\n",
      "(44, 'Ryan Turner')\n",
      "(49, 'Willa Fisher')\n"
     ]
    }
   ],
   "source": [
    "# Query to select clients with a rating greater than 4.3 stars\n",
    "\n",
    "query = \"\"\"SELECT\n",
    "    c.ClientID,\n",
    "    c.Name AS ClientName\n",
    "FROM\n",
    "    Client c\n",
    "JOIN\n",
    "    JobHistory jh ON c.JobHistID = jh.JobHistID\n",
    "JOIN\n",
    "    Job j ON jh.JobID = j.JobID\n",
    "JOIN\n",
    "    Reviews r ON j.JobID = r.JobID\n",
    "WHERE\n",
    "    r.StarRating > 4.3;\n",
    "\"\"\"\n",
    "\n",
    "curr_cursor.execute(query)\n",
    "for record in curr_cursor:\n",
    "    print(record)"
   ]
  },
  {
   "cell_type": "code",
   "execution_count": 44,
   "id": "689fdc73",
   "metadata": {},
   "outputs": [
    {
     "name": "stdout",
     "output_type": "stream",
     "text": [
      "(3, 'Charlie Davis')\n",
      "(8, 'Henry Anderson')\n",
      "(13, 'Mia Turner')\n",
      "(18, 'Robert Turner')\n",
      "(28, 'Benjamin Hayes')\n",
      "(33, 'Giselle Fisher')\n",
      "(38, 'Liam Murphy')\n",
      "(48, 'Vincent Murphy')\n"
     ]
    }
   ],
   "source": [
    "# Query to select all clients whose contracts started before January 2022.\n",
    "\n",
    "query = \"\"\"SELECT DISTINCT C.ClientID, C.Name AS ClientName\n",
    "FROM Client C\n",
    "JOIN Contract CT ON C.ClientID = CT.ClientID\n",
    "WHERE CT.startDate < '2022-01-01';\n",
    "\"\"\"\n",
    "\n",
    "curr_cursor.execute(query)\n",
    "for record in curr_cursor:\n",
    "    print(record)"
   ]
  },
  {
   "cell_type": "code",
   "execution_count": 51,
   "id": "74586297",
   "metadata": {},
   "outputs": [
    {
     "data": {
      "image/png": "[encoded data removed]",
      "text/plain": [
       "<Figure size 720x432 with 1 Axes>"
      ]
     },
     "metadata": {
      "needs_background": "light"
     },
     "output_type": "display_data"
    }
   ],
   "source": [
    "# A Scatter plot to show the distribution of Ratings\n",
    "\n",
    "import matplotlib.pyplot as plt\n",
    "\n",
    "query = \"\"\"select ReviewID, StarRating from Reviews;\"\"\"\n",
    "query1_df = pd.read_sql(query, startalent_db)\n",
    "\n",
    "plt.figure(figsize = (10,6))\n",
    "plt.scatter(query1_df.StarRating, query1_df.ReviewID, c = 'teal')\n",
    "plt.title('Distribution of Star Ratings', fontsize = 16)\n",
    "plt.xlabel('Star Rating', fontsize = 14)\n",
    "plt.ylabel('Review ID', fontsize = 14)\n",
    "plt.show()"
   ]
  },
  {
   "cell_type": "code",
   "execution_count": 61,
   "id": "79caf514",
   "metadata": {},
   "outputs": [
    {
     "data": {
      "image/png": "[encoded data removed]",
      "text/plain": [
       "<Figure size 720x432 with 1 Axes>"
      ]
     },
     "metadata": {
      "needs_background": "light"
     },
     "output_type": "display_data"
    }
   ],
   "source": [
    "# A Bar plot to show the skills each client possesses\n",
    "import seaborn as sns\n",
    "\n",
    "query = \"\"\"select ClientID, count(*) as Number_of_skills\n",
    "from clientskills\n",
    "group by ClientID;\"\"\"\n",
    "query2_df = pd.read_sql(query, startalent_db)\n",
    "\n",
    "plt.figure(figsize = (10,6))\n",
    "plt.bar(query2_df.ClientID, query2_df.Number_of_skills, color = 'peru')\n",
    "plt.title('Count Plot of Client Skills', fontsize = 16)\n",
    "plt.ylim(0,5)\n",
    "plt.xlabel('ClientID', fontsize = 14)\n",
    "plt.ylabel('Number of Skills', fontsize = 14)\n",
    "plt.show()\n"
   ]
  },
  {
   "cell_type": "code",
   "execution_count": 71,
   "id": "0318fa31",
   "metadata": {},
   "outputs": [
    {
     "data": {
      "image/png": "[encoded data removed]",
      "text/plain": [
       "<Figure size 576x576 with 1 Axes>"
      ]
     },
     "metadata": {},
     "output_type": "display_data"
    }
   ],
   "source": [
    "# Pie chart to show the composition of Ages of Clients\n",
    "\n",
    "query = \"\"\"select ClientID, Age\n",
    "from client;\"\"\"\n",
    "query3_df = pd.read_sql(query, startalent_db)\n",
    "\n",
    "age_buckets = {\n",
    "    '26-30': range(26, 31),\n",
    "    '31-35': range(31, 36),\n",
    "    '36-40': range(36, 41),\n",
    "    '41-45': range(41, 46),\n",
    "}\n",
    "\n",
    "# Categorize ages into buckets\n",
    "categorized_ages = {bucket: sum(1 for a in query3_df.Age if a in range_) for bucket, range_ in age_buckets.items()}\n",
    "\n",
    "# Create a pie chart\n",
    "plt.figure(figsize=(8, 8))\n",
    "plt.pie(categorized_ages.values(), labels=categorized_ages.keys(), autopct='%1.1f%%',\\\n",
    "        startangle=90, colors=['skyblue', 'lightgreen', 'lightcoral', 'lightsalmon', 'gold'],\\\n",
    "        textprops={'fontsize': 12})\n",
    "plt.title('Distribution of Age Buckets for Clients', fontsize = 16)\n",
    "plt.show()"
   ]
  },
  {
   "cell_type": "code",
   "execution_count": null,
   "id": "191bbf8b",
   "metadata": {},
   "outputs": [],
   "source": []
  }
 ],
 "metadata": {
  "kernelspec": {
   "display_name": "Python 3",
   "language": "python",
   "name": "python3"
  },
  "language_info": {
   "codemirror_mode": {
    "name": "ipython",
    "version": 3
   },
   "file_extension": ".py",
   "mimetype": "text/x-python",
   "name": "python",
   "nbconvert_exporter": "python",
   "pygments_lexer": "ipython3",
   "version": "3.7.10"
  }
 },
 "nbformat": 4,
 "nbformat_minor": 5
}
